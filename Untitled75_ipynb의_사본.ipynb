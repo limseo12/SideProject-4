{
  "nbformat": 4,
  "nbformat_minor": 0,
  "metadata": {
    "colab": {
      "private_outputs": true,
      "provenance": [],
      "authorship_tag": "ABX9TyOrHtWPhd2McBo5jRbbCN48",
      "include_colab_link": true
    },
    "kernelspec": {
      "name": "python3",
      "display_name": "Python 3"
    },
    "language_info": {
      "name": "python"
    }
  },
  "cells": [
    {
      "cell_type": "markdown",
      "metadata": {
        "id": "view-in-github",
        "colab_type": "text"
      },
      "source": [
        "<a href=\"https://colab.research.google.com/github/limseo12/SideProject-4/blob/main/Untitled75_ipynb%EC%9D%98_%EC%82%AC%EB%B3%B8.ipynb\" target=\"_parent\"><img src=\"https://colab.research.google.com/assets/colab-badge.svg\" alt=\"Open In Colab\"/></a>"
      ]
    },
    {
      "cell_type": "markdown",
      "source": [
        "라이브러리를 설치합니다."
      ],
      "metadata": {
        "id": "9qVeFOgpIUgn"
      }
    },
    {
      "cell_type": "code",
      "execution_count": null,
      "metadata": {
        "id": "B6Zyr26pH7TB"
      },
      "outputs": [],
      "source": [
        "!pip install torch\n",
        "!pip install torchaudio\n",
        "!pip install jamo"
      ]
    },
    {
      "cell_type": "code",
      "source": [
        "import torch\n",
        "import librosa\n",
        "import numpy as np\n",
        "import soundfile as sf\n",
        "from IPython.display import Audio\n",
        "from scipy.io import wavfile\n",
        "import os, tqdm, re\n",
        "from tqdm import tqdm\n",
        "from jamo import h2j\n",
        "from glob import glob\n",
        "import matplotlib.pyplot as plt "
      ],
      "metadata": {
        "id": "R359EM2P0FGy"
      },
      "execution_count": null,
      "outputs": []
    },
    {
      "cell_type": "markdown",
      "source": [
        "Tacotron2"
      ],
      "metadata": {
        "id": "Mhzq9uWCIxCM"
      }
    },
    {
      "cell_type": "markdown",
      "source": [
        "데이터셋 kss"
      ],
      "metadata": {
        "id": "t-kJpb5YkC-U"
      }
    },
    {
      "cell_type": "code",
      "source": [
        "from google.colab import drive\n",
        "drive.mount('/content/drive')"
      ],
      "metadata": {
        "id": "pl0dFuYHjYVp"
      },
      "execution_count": null,
      "outputs": []
    },
    {
      "cell_type": "code",
      "source": [
        "%cd \"/content/drive/MyDrive/Data/kss_dataset/kss\""
      ],
      "metadata": {
        "id": "w4OILK4hzHYe"
      },
      "execution_count": null,
      "outputs": []
    },
    {
      "cell_type": "code",
      "source": [
        "#폴더 merge\n",
        "base_dir = '/content/drive/MyDrive/Data/kss_dataset/kss/'\n",
        "text_dir = '/content/drive/MyDrive/Data/kss_dataset/transcript.v.1.4.txt'\n",
        "filters = '([.,!?])'"
      ],
      "metadata": {
        "id": "KOEC674Am0qv"
      },
      "execution_count": null,
      "outputs": []
    },
    {
      "cell_type": "code",
      "source": [
        "#util.hparams\n",
        "max_char = 105\n",
        "sample_rate = 22050\n",
        "n_fft = 1024\n",
        "hop_length = 256\n",
        "win_length = 1024\n",
        "preemphasis = 0.97\n",
        "ref_db = 20\n",
        "max_db = 100\n",
        "mel_dim = 80\n",
        "max_length = 780\n",
        "reduction = 5\n",
        "embedding_dim = 256\n",
        "encoder_dim = 128\n",
        "decoder_dim = 256\n",
        "symbol_length = 70\n",
        "batch_size = 32\n",
        "batch_group = batch_size * batch_size\n",
        "checkpoint_step = 2000\n",
        "max_iter = 200"
      ],
      "metadata": {
        "id": "8941fpD_MF_I"
      },
      "execution_count": null,
      "outputs": []
    },
    {
      "cell_type": "code",
      "source": [
        "#text\n",
        "from jamo import hangul_to_jamo\n",
        "\n",
        "PAD = '_'\n",
        "EOS = '~'\n",
        "SPACE = ' '\n",
        "\n",
        "JAMO_LEADS = \"\".join([chr(_) for _ in range(0x1100, 0x1113)])\n",
        "JAMO_VOWELS = \"\".join([chr(_) for _ in range(0x1161, 0x1176)])\n",
        "JAMO_TAILS = \"\".join([chr(_) for _ in range(0x11A8, 0x11C3)])\n",
        "\n",
        "VALID_CHARS = JAMO_LEADS + JAMO_VOWELS + JAMO_TAILS + SPACE\n",
        "symbols = PAD + EOS + VALID_CHARS\n",
        "\n",
        "_symbol_to_id = {s: i for i, s in enumerate(symbols)}\n",
        "_id_to_symbol = {i: s for i, s in enumerate(symbols)}\n",
        "\n",
        "\n",
        "def text_to_sequence(text):\n",
        "  sequence = []\n",
        "  if not 0x1100 <= ord(text[0]) <= 0x1113:\n",
        "    text = ''.join(list(hangul_to_jamo(text)))\n",
        "  for s in text:\n",
        "    sequence.append(_symbol_to_id[s])\n",
        "  sequence.append(_symbol_to_id['~'])\n",
        "  return sequence\n",
        "\n",
        "\n",
        "def sequence_to_text(sequence):\n",
        "  result = ''\n",
        "  for symbol_id in sequence:\n",
        "    if symbol_id in _id_to_symbol:\n",
        "      s = _id_to_symbol[symbol_id]\n",
        "      result += s\n",
        "  return result.replace('}{', ' ')"
      ],
      "metadata": {
        "id": "fifeQr8cMIew"
      },
      "execution_count": null,
      "outputs": []
    },
    {
      "cell_type": "code",
      "source": [
        "#plot_alignment\n",
        "import matplotlib\n",
        "import matplotlib.pyplot as plt\n",
        "import matplotlib.font_manager as fm\n",
        "import tensorflow as tf\n",
        "import numpy as np\n",
        "matplotlib.use('Agg')\n",
        "\n",
        "\n",
        "font_name = fm.FontProperties(fname=\"util/malgun.ttf\").get_name()\n",
        "matplotlib.rc('font', family=font_name, size=14)\n",
        "\n",
        "\n",
        "def plot_alignment(alignment, path, text):\n",
        "    text = text.rstrip('_').rstrip('~')\n",
        "    alignment = alignment[:len(text)]\n",
        "    _, ax = plt.subplots(figsize=(len(text)/3, 5))\n",
        "    ax.imshow(np.transpose(alignment), aspect='auto', origin='lower')\n",
        "    plt.xlabel('Encoder timestep')\n",
        "    plt.ylabel('Decoder timestep')\n",
        "    text = [x if x != ' ' else '' for x in list(text)]\n",
        "    plt.xticks(range(len(text)), text)\n",
        "    plt.tight_layout()\n",
        "    plt.savefig(path, format='png')"
      ],
      "metadata": {
        "id": "ov4lgYtCMSqS"
      },
      "execution_count": null,
      "outputs": []
    },
    {
      "cell_type": "code",
      "source": [
        "import pandas as pd\n",
        "import numpy as np\n",
        "import os, librosa, re, glob, scipy\n",
        "from tqdm import tqdm\n",
        "\n",
        "\n",
        "text_dir = '/content/drive/MyDrive/Data/kss_dataset/transcript.v.1.4.txt'\n",
        "filters = '([.,!?])'\n",
        "\n",
        "metadata = pd.read_csv(text_dir, dtype='object', sep='|', header=None)\n",
        "wav_dir = metadata[0].values\n",
        "text = metadata[3].values\n",
        "\n",
        "out_dir = './data'\n",
        "os.makedirs(out_dir, exist_ok=True)\n",
        "os.makedirs(out_dir + '/text', exist_ok=True)\n",
        "os.makedirs(out_dir + '/mel', exist_ok=True)\n",
        "os.makedirs(out_dir + '/dec', exist_ok=True)\n",
        "os.makedirs(out_dir + '/spec', exist_ok=True)\n",
        "\n",
        "# text\n",
        "print('Load Text')\n",
        "text_len = []\n",
        "for idx, s in enumerate(tqdm(text)):\n",
        "    sentence = re.sub(re.compile(filters), '', s)\n",
        "    sentence = text_to_sequence(sentence)\n",
        "    text_len.append(len(sentence))\n",
        "    text_name = 'kss-text-%05d.npy' % idx\n",
        "    np.save(os.path.join(out_dir + '/text', text_name), sentence, allow_pickle=False)\n",
        "np.save(os.path.join(out_dir + '/text_len.npy'), np.array(text_len))\n",
        "print('Text Done')\n",
        "\n",
        "# audio\n",
        "print('Load Audio')\n",
        "mel_len_list = []\n",
        "for idx, fn in enumerate(tqdm(wav_dir)):\n",
        "    file_dir = './archive/kss/'+ fn\n",
        "    wav, _ = librosa.load(file_dir, sr=sample_rate)\n",
        "    wav, _ = librosa.effects.trim(wav)\n",
        "    wav = scipy.signal.lfilter([1, -preemphasis], [1], wav)\n",
        "    stft = librosa.stft(wav, n_fft=n_fft, hop_length=hop_length, win_length=win_length)\n",
        "    stft = np.abs(stft)\n",
        "    mel_filter = librosa.filters.mel(sample_rate, n_fft, mel_dim)\n",
        "    mel_spec = np.dot(mel_filter, stft)\n",
        "\n",
        "    mel_spec = 20 * np.log10(np.maximum(1e-5, mel_spec))\n",
        "    stft = 20 * np.log10(np.maximum(1e-5, stft))\n",
        "\n",
        "    mel_spec = np.clip((mel_spec - ref_db + max_db) / max_db, 1e-8, 1)\n",
        "    stft = np.clip((stft - ref_db + max_db) / max_db, 1e-8, 1)\n",
        "\n",
        "    mel_spec = mel_spec.T.astype(np.float32)\n",
        "    stft = stft.T.astype(np.float32)\n",
        "    mel_len_list.append([mel_spec.shape[0], idx])\n",
        "\n",
        "    # padding\n",
        "    remainder = mel_spec.shape[0] % reduction\n",
        "    if remainder != 0:\n",
        "        mel_spec = np.pad(mel_spec, [[0, reduction - remainder], [0, 0]], mode='constant')\n",
        "        stft = np.pad(stft, [[0, reduction - remainder], [0, 0]], mode='constant')\n",
        "\n",
        "    mel_name = 'kss-mel-%05d.npy' % idx\n",
        "    np.save(os.path.join(out_dir + '/mel', mel_name), mel_spec, allow_pickle=False)\n",
        "\n",
        "    stft_name = 'kss-spec-%05d.npy' % idx\n",
        "    np.save(os.path.join(out_dir + '/spec', stft_name), stft, allow_pickle=False)\n",
        "\n",
        "    # Decoder Input\n",
        "    mel_spec = mel_spec.reshape((-1, mel_dim * reduction))\n",
        "    dec_input = np.concatenate((np.zeros_like(mel_spec[:1, :]), mel_spec[:-1, :]), axis=0)\n",
        "    dec_input = dec_input[:, -mel_dim:]\n",
        "    dec_name = 'kss-dec-%05d.npy' % idx\n",
        "    np.save(os.path.join(out_dir + '/dec', dec_name), dec_input, allow_pickle=False)\n",
        "\n",
        "mel_len = sorted(mel_len_list)\n",
        "np.save(os.path.join(out_dir + '/mel_len.npy'), np.array(mel_len))\n",
        "print('Audio Done')\n"
      ],
      "metadata": {
        "id": "ovgqy2dPIO-K"
      },
      "execution_count": null,
      "outputs": []
    },
    {
      "cell_type": "code",
      "source": [
        "file_list = sorted(glob(os.path.join(base_dir, '**/*.lab')))"
      ],
      "metadata": {
        "id": "ws5F0Q32IWob"
      },
      "execution_count": null,
      "outputs": []
    },
    {
      "cell_type": "code",
      "source": [
        "jamo_dict = {}\n",
        "for file_name in tqdm(file_list):\n",
        "    sentence =  open(file_name, 'r', encoding='utf-8').readline()\n",
        "    jamo = h2j(sentence).split(' ')\n",
        "    \n",
        "    for i, s in enumerate(jamo):\n",
        "        if s not in jamo_dict:\n",
        "            jamo_dict[s] = ' '.join(jamo[i])"
      ],
      "metadata": {
        "id": "eBy5Cd2HIYSb"
      },
      "execution_count": null,
      "outputs": []
    },
    {
      "cell_type": "code",
      "source": [
        "dict_name = 'korean_dict.txt'"
      ],
      "metadata": {
        "id": "20TUy97dIaay"
      },
      "execution_count": null,
      "outputs": []
    },
    {
      "cell_type": "code",
      "source": [
        "with open(dict_name, 'w', encoding='utf-8') as f:\n",
        "    for key in jamo_dict.keys():\n",
        "        content = '{}\\t{}\\n'.format(key, jamo_dict[key])\n",
        "        f.write(content)"
      ],
      "metadata": {
        "id": "D2hsxfdkIcX2"
      },
      "execution_count": null,
      "outputs": []
    }
  ]
}