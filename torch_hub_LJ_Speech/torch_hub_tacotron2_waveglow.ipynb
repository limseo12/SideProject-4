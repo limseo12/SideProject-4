{
  "nbformat": 4,
  "nbformat_minor": 0,
  "metadata": {
    "colab": {
      "private_outputs": true,
      "provenance": [],
      "authorship_tag": "ABX9TyOfDGu+HmYaocakEfAwA2Qw",
      "include_colab_link": true
    },
    "kernelspec": {
      "name": "python3",
      "display_name": "Python 3"
    },
    "language_info": {
      "name": "python"
    },
    "accelerator": "GPU",
    "gpuClass": "standard"
  },
  "cells": [
    {
      "cell_type": "markdown",
      "metadata": {
        "id": "view-in-github",
        "colab_type": "text"
      },
      "source": [
        "<a href=\"https://colab.research.google.com/github/limseo12/SideProject-4/blob/main/torch_hub_LJ_Speech/torch_hub_tacotron2_waveglow.ipynb\" target=\"_parent\"><img src=\"https://colab.research.google.com/assets/colab-badge.svg\" alt=\"Open In Colab\"/></a>"
      ]
    },
    {
      "cell_type": "code",
      "execution_count": null,
      "metadata": {
        "id": "GzGm59lU42UR"
      },
      "outputs": [],
      "source": [
        "!pip install numpy scipy librosa unidecode inflect"
      ]
    },
    {
      "cell_type": "code",
      "source": [
        "import torch\n",
        "tacotron2 = torch.hub.load('nvidia/DeepLearningExamples:torchhub', 'nvidia_tacotron2')\n",
        "processing = torch.hub.load('nvidia/DeepLearningExamples:torchhub', 'nvidia_tts_utils')\n",
        "\n",
        "waveglow = torch.hub.load('nvidia/DeepLearningExamples:torchhub', 'nvidia_waveglow')"
      ],
      "metadata": {
        "id": "VZEq9T8iTYTC"
      },
      "execution_count": null,
      "outputs": []
    },
    {
      "cell_type": "code",
      "source": [
        "#디코더 부분에 프리넷과 포스트넷이 있는 것을 확인 할 수 있다.\n",
        "#포스트넷 부분에 5개의 레이어로 구성 되어 있는 것을 확인 할 수 있다.\n",
        "tacotron2 = tacotron2.to('cuda')\n",
        "tacotron2.eval()"
      ],
      "metadata": {
        "id": "e6vScjXjTpkW"
      },
      "execution_count": null,
      "outputs": []
    },
    {
      "cell_type": "markdown",
      "source": [
        "# waveglow 부분"
      ],
      "metadata": {
        "id": "UdOWZB97U0yr"
      }
    },
    {
      "cell_type": "code",
      "source": [
        "waveglow = waveglow.remove_weightnorm(waveglow)\n",
        "waveglow = waveglow.to('cuda')\n",
        "waveglow.eval()"
      ],
      "metadata": {
        "id": "MRfj1bS8a8on"
      },
      "execution_count": null,
      "outputs": []
    },
    {
      "cell_type": "markdown",
      "source": [
        "# Text To Speech(TTS)"
      ],
      "metadata": {
        "id": "ClNpOkMIXPAv"
      }
    },
    {
      "cell_type": "code",
      "source": [
        "import numpy as np\n",
        "\n",
        "import matplotlib.pyplot as plt\n",
        "plt.style.use('seaborn-white')\n",
        "\n",
        "\n",
        "def plot_data(data, figsize=(16, 4)):\n",
        "  fig, axes = plt.subplots(1, len(data), figsize=figsize)\n",
        "  for i in range(len(data)):\n",
        "    axes[i].imshow(data[i], aspect='auto', origin='bottom',\n",
        "                   interpolation='none', cmap='viridis')\n",
        "\n",
        "def TTS(text):\n",
        "\n",
        "  sampling_rate = 22050\n",
        "\n",
        "  # sequence = np.array(tacotron2.text_to_sequence(text, ['english_cleaners']))[None, :]\n",
        "  # sequence = torch.from_numpy(sequence).to(device='cuda', dtype=torch.int64)\n",
        "  sequence, input_lengths = processing.prepare_input_sequence([text]) \n",
        "  \n",
        "  with torch.no_grad():\n",
        "    # mel_outputs, mel_outputs_postnet, _, alignments = tacotron2.infer(sequence)\n",
        "    mel_outputs_postnet, mel_lengths, alignments= tacotron2.infer(sequence, input_lengths) \n",
        "    audio = waveglow.infer(mel_outputs_postnet)\n",
        "\n",
        "  # mel_output = mel_outputs.data.cpu().numpy()[0]\n",
        "  mel_output_postnet = mel_outputs_postnet.data.cpu().numpy()[0]\n",
        "  alignment = alignments.data.cpu().numpy()\n",
        "  audio_np = audio[0].data.cpu().numpy()\n",
        "\n",
        "  # return mel_output, mel_output_postnet, alignment, audio_np, sampling_rate\n",
        "  return mel_output_postnet, alignment, audio_np, sampling_rate"
      ],
      "metadata": {
        "id": "I-BgxZwvXOIn"
      },
      "execution_count": null,
      "outputs": []
    },
    {
      "cell_type": "code",
      "source": [
        "import librosa.display\n",
        "from IPython.display import Audio\n",
        "\n",
        "text = \"Hello,  how are you?, My name is Lim,  Nice to meet you\"\n",
        "# mel_output, mel_output_postnet, alignment, audio_np, sampling_rate = TTS(text)\n",
        "mel_output_postnet, alignment, audio_np, sampling_rate = TTS(text)\n",
        "\n",
        "fig = plt.figure(figsize=(14, 4))\n",
        "librosa.display.waveplot(audio_np, sr=sampling_rate)\n",
        "# plot_data((mel_output, mel_output_postnet, alignment))\n",
        "# plot_data((mel_output_postnet, alignment))\n",
        "Audio(audio_np, rate=sampling_rate)"
      ],
      "metadata": {
        "id": "v3WLU0S-YqPP"
      },
      "execution_count": null,
      "outputs": []
    }
  ]
}